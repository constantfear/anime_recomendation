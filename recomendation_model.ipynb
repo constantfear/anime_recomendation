{
 "cells": [
  {
   "attachments": {},
   "cell_type": "markdown",
   "metadata": {},
   "source": [
    "# Рекомендационная система аниме (для сайта [Anime.go](https://animego.org/))"
   ]
  },
  {
   "attachments": {},
   "cell_type": "markdown",
   "metadata": {},
   "source": [
    "### 1. Импорт библиотек"
   ]
  },
  {
   "cell_type": "code",
   "execution_count": 1,
   "metadata": {},
   "outputs": [],
   "source": [
    "import pandas as pd\n",
    "from sklearn.feature_extraction.text import TfidfVectorizer\n",
    "from sklearn.feature_extraction.text import CountVectorizer\n",
    "from sklearn.metrics.pairwise import linear_kernel\n",
    "from sklearn.metrics.pairwise import cosine_similarity\n",
    "import numpy as np\n",
    "import sqlite3"
   ]
  },
  {
   "attachments": {},
   "cell_type": "markdown",
   "metadata": {},
   "source": [
    "### 2. Работа с базой данных"
   ]
  },
  {
   "cell_type": "code",
   "execution_count": 2,
   "metadata": {},
   "outputs": [],
   "source": [
    "con = sqlite3.connect('Data/anime_recomendations.db')"
   ]
  },
  {
   "cell_type": "code",
   "execution_count": 3,
   "metadata": {},
   "outputs": [],
   "source": [
    "data = pd.read_sql_query(\"SELECT id, Rating, [Num votes] FROM anime\", con)"
   ]
  },
  {
   "cell_type": "code",
   "execution_count": 4,
   "metadata": {},
   "outputs": [],
   "source": [
    "c = data['Rating'].mean()\n",
    "m = data['Num votes'].quantile(0.60)"
   ]
  },
  {
   "cell_type": "code",
   "execution_count": 5,
   "metadata": {},
   "outputs": [],
   "source": [
    "def weighted_rating(x, m=m, C=c):\n",
    "    v = x['Num votes']\n",
    "    r = x['Rating']\n",
    "    # Calculation based on the IMDB formula\n",
    "    return (v/(v+m) * r) + (m/(m+v) * C)"
   ]
  },
  {
   "cell_type": "code",
   "execution_count": 6,
   "metadata": {},
   "outputs": [],
   "source": [
    "data['score'] = data.apply(weighted_rating, axis=1)"
   ]
  },
  {
   "cell_type": "code",
   "execution_count": 7,
   "metadata": {},
   "outputs": [
    {
     "data": {
      "text/html": [
       "<div>\n",
       "<style scoped>\n",
       "    .dataframe tbody tr th:only-of-type {\n",
       "        vertical-align: middle;\n",
       "    }\n",
       "\n",
       "    .dataframe tbody tr th {\n",
       "        vertical-align: top;\n",
       "    }\n",
       "\n",
       "    .dataframe thead th {\n",
       "        text-align: right;\n",
       "    }\n",
       "</style>\n",
       "<table border=\"1\" class=\"dataframe\">\n",
       "  <thead>\n",
       "    <tr style=\"text-align: right;\">\n",
       "      <th></th>\n",
       "      <th>id</th>\n",
       "      <th>Rating</th>\n",
       "      <th>Num votes</th>\n",
       "      <th>score</th>\n",
       "    </tr>\n",
       "  </thead>\n",
       "  <tbody>\n",
       "    <tr>\n",
       "      <th>0</th>\n",
       "      <td>1</td>\n",
       "      <td>9.3</td>\n",
       "      <td>129</td>\n",
       "      <td>7.481569</td>\n",
       "    </tr>\n",
       "    <tr>\n",
       "      <th>1</th>\n",
       "      <td>2</td>\n",
       "      <td>0.0</td>\n",
       "      <td>0</td>\n",
       "      <td>7.265368</td>\n",
       "    </tr>\n",
       "    <tr>\n",
       "      <th>2</th>\n",
       "      <td>3</td>\n",
       "      <td>0.0</td>\n",
       "      <td>0</td>\n",
       "      <td>7.265368</td>\n",
       "    </tr>\n",
       "    <tr>\n",
       "      <th>3</th>\n",
       "      <td>4</td>\n",
       "      <td>8.5</td>\n",
       "      <td>124</td>\n",
       "      <td>7.391997</td>\n",
       "    </tr>\n",
       "    <tr>\n",
       "      <th>4</th>\n",
       "      <td>5</td>\n",
       "      <td>9.1</td>\n",
       "      <td>124</td>\n",
       "      <td>7.453536</td>\n",
       "    </tr>\n",
       "    <tr>\n",
       "      <th>...</th>\n",
       "      <td>...</td>\n",
       "      <td>...</td>\n",
       "      <td>...</td>\n",
       "      <td>...</td>\n",
       "    </tr>\n",
       "    <tr>\n",
       "      <th>2331</th>\n",
       "      <td>2332</td>\n",
       "      <td>9.4</td>\n",
       "      <td>30675</td>\n",
       "      <td>9.327076</td>\n",
       "    </tr>\n",
       "    <tr>\n",
       "      <th>2332</th>\n",
       "      <td>2333</td>\n",
       "      <td>9.0</td>\n",
       "      <td>4189</td>\n",
       "      <td>8.643141</td>\n",
       "    </tr>\n",
       "    <tr>\n",
       "      <th>2333</th>\n",
       "      <td>2334</td>\n",
       "      <td>8.9</td>\n",
       "      <td>3112</td>\n",
       "      <td>8.477418</td>\n",
       "    </tr>\n",
       "    <tr>\n",
       "      <th>2334</th>\n",
       "      <td>2335</td>\n",
       "      <td>8.9</td>\n",
       "      <td>15282</td>\n",
       "      <td>8.791637</td>\n",
       "    </tr>\n",
       "    <tr>\n",
       "      <th>2335</th>\n",
       "      <td>2336</td>\n",
       "      <td>9.3</td>\n",
       "      <td>19435</td>\n",
       "      <td>9.192418</td>\n",
       "    </tr>\n",
       "  </tbody>\n",
       "</table>\n",
       "<p>2336 rows × 4 columns</p>\n",
       "</div>"
      ],
      "text/plain": [
       "        id  Rating  Num votes     score\n",
       "0        1     9.3        129  7.481569\n",
       "1        2     0.0          0  7.265368\n",
       "2        3     0.0          0  7.265368\n",
       "3        4     8.5        124  7.391997\n",
       "4        5     9.1        124  7.453536\n",
       "...    ...     ...        ...       ...\n",
       "2331  2332     9.4      30675  9.327076\n",
       "2332  2333     9.0       4189  8.643141\n",
       "2333  2334     8.9       3112  8.477418\n",
       "2334  2335     8.9      15282  8.791637\n",
       "2335  2336     9.3      19435  9.192418\n",
       "\n",
       "[2336 rows x 4 columns]"
      ]
     },
     "execution_count": 7,
     "metadata": {},
     "output_type": "execute_result"
    }
   ],
   "source": [
    "data"
   ]
  },
  {
   "cell_type": "code",
   "execution_count": 8,
   "metadata": {},
   "outputs": [],
   "source": [
    "def clean_data(x):\n",
    "    if isinstance(x, list):\n",
    "        return [str.lower(i.replace(\" \", \"\")) for i in x]\n",
    "    else:\n",
    "        #Check if director exists. If not, return empty string\n",
    "        if isinstance(x, str):\n",
    "            return str.lower(x.replace(\" \", \"\"))\n",
    "        else:\n",
    "            return ''"
   ]
  },
  {
   "cell_type": "code",
   "execution_count": 9,
   "metadata": {},
   "outputs": [],
   "source": [
    "Studio = pd.read_sql_query(\"SELECT Studio FROM anime\", con)\n",
    "Studio = Studio['Studio'].apply(clean_data)"
   ]
  },
  {
   "cell_type": "code",
   "execution_count": 13,
   "metadata": {},
   "outputs": [],
   "source": [
    "genres_ = ['Безумие', '[Боевые искусства]',\n",
    "       'Вампиры', 'Военное', 'Гарем', 'Демоны', 'Детектив', 'Детское',\n",
    "       'Дзёсэй', 'Драма', 'Игры', 'Исторический', 'Комедия', 'Космос', 'Магия',\n",
    "       'Машины', 'Меха', 'Музыка', 'Пародия', 'Повседневность', 'Полиция',\n",
    "       'Приключения', 'Психологическое', 'Романтика', 'Самураи',\n",
    "       'Сверхъестественное', 'Сёдзё', '[Сёдзё Ай]', 'Сёнэн', '[Сёнэн-Aй]', 'Спорт',\n",
    "       '[Супер сила]', 'Сэйнэн', 'Триллер', 'Ужасы', 'Фантастика', 'Фэнтези',\n",
    "       'Школа', 'Экшен', 'Этти']"
   ]
  },
  {
   "cell_type": "code",
   "execution_count": 14,
   "metadata": {},
   "outputs": [],
   "source": [
    "def create_soup_1():\n",
    "    data = pd.read_sql_query(\"SELECT Title, Synonym FROM anime\", con)\n",
    "    return data['Title'] + \" \" + data['Synonym']"
   ]
  },
  {
   "cell_type": "code",
   "execution_count": 15,
   "metadata": {},
   "outputs": [],
   "source": [
    "def create_soup_2():\n",
    "    data = pd.read_sql_query(\"SELECT Type, Year, Age, Duration FROM anime\", con)\n",
    "    return data['Type'] + \" \" + data['Year'].astype(str) + \" \" + Studio"
   ]
  },
  {
   "cell_type": "code",
   "execution_count": 16,
   "metadata": {},
   "outputs": [],
   "source": [
    "def create_soup_3():\n",
    "    data = pd.read_sql_query(f\"SELECT {', '.join(genres_)} FROM anime\", con)\n",
    "    return data.to_numpy()"
   ]
  },
  {
   "cell_type": "code",
   "execution_count": 17,
   "metadata": {},
   "outputs": [],
   "source": [
    "soup_1 = create_soup_1()\n",
    "soup_2 = create_soup_2()\n",
    "soup_3 = create_soup_3()\n"
   ]
  },
  {
   "cell_type": "code",
   "execution_count": 18,
   "metadata": {},
   "outputs": [],
   "source": [
    "Description = pd.read_sql_query(\"SELECT Description FROM anime\", con)"
   ]
  },
  {
   "attachments": {},
   "cell_type": "markdown",
   "metadata": {},
   "source": [
    "### 3. Перевод данных в векторы и расчет их косинусного сходства"
   ]
  },
  {
   "cell_type": "code",
   "execution_count": 19,
   "metadata": {},
   "outputs": [],
   "source": [
    "tfidf = TfidfVectorizer()\n",
    "count_Title = CountVectorizer()\n",
    "count_genres = CountVectorizer()\n",
    "count_others = CountVectorizer()"
   ]
  },
  {
   "cell_type": "code",
   "execution_count": 20,
   "metadata": {},
   "outputs": [],
   "source": [
    "tfidf_matrix = tfidf.fit_transform(Description['Description'])\n",
    "Title_matrix = count_Title.fit_transform(soup_1)\n",
    "genres_matrix = soup_3\n",
    "others_matrix = count_others.fit_transform(soup_2)"
   ]
  },
  {
   "cell_type": "code",
   "execution_count": 21,
   "metadata": {},
   "outputs": [],
   "source": [
    "cosine_discription = linear_kernel(tfidf_matrix, tfidf_matrix)\n",
    "cosine_Title = cosine_similarity(Title_matrix, Title_matrix)\n",
    "cosine_genres = cosine_similarity(genres_matrix, genres_matrix)\n",
    "cosine_others = cosine_similarity(others_matrix, others_matrix)"
   ]
  },
  {
   "cell_type": "code",
   "execution_count": 22,
   "metadata": {},
   "outputs": [],
   "source": [
    "cos_metric = (cosine_discription*0.6 + cosine_Title*2 + cosine_genres*0.70 + cosine_others*0.45)"
   ]
  },
  {
   "attachments": {},
   "cell_type": "markdown",
   "metadata": {},
   "source": [
    "Сохранение всех косинусных расстояний для каждого объекта"
   ]
  },
  {
   "cell_type": "code",
   "execution_count": 28,
   "metadata": {},
   "outputs": [],
   "source": [
    "import pickle\n",
    "with open('Data/cosine_sim_sparse.pkl', 'wb') as file:\n",
    "    pickle.dump(cos_metric, file)"
   ]
  },
  {
   "cell_type": "code",
   "execution_count": 30,
   "metadata": {},
   "outputs": [],
   "source": [
    "with open('Data/cosine_sim_sparse.pkl', 'rb') as file:\n",
    "    recs = pickle.load(file)"
   ]
  },
  {
   "attachments": {},
   "cell_type": "markdown",
   "metadata": {},
   "source": [
    "### 4. Получение рекомендаций"
   ]
  },
  {
   "cell_type": "code",
   "execution_count": 26,
   "metadata": {},
   "outputs": [],
   "source": [
    "def get_recommendations(title, cosine_sim=recs):\n",
    "    # Get the index of the movie that matches the title\n",
    "    querry = f\"SELECT id FROM anime WHERE Title='{title}'\"\n",
    "    cur = con.cursor()\n",
    "    cur.execute(querry)\n",
    "    idx = cur.fetchall()[0][0] - 1\n",
    "    # Get the pairwsie similarity scores of all movies with that movie\n",
    "    sim_scores = list(enumerate(cosine_sim[idx]))\n",
    "\n",
    "    # Sort the movies based on the similarity scores\n",
    "    sim_scores = sorted(sim_scores, key=lambda x: x[1], reverse=True)\n",
    "\n",
    "    # Get the scores of the 10 most similar movies\n",
    "    sim_scores = sim_scores[0:20]\n",
    "\n",
    "    # Get the movie indices\n",
    "    movie_indices = [i[0] for i in sim_scores]\n",
    "\n",
    "    # Return the top 10 most similar movies\n",
    "    return data.iloc[movie_indices].sort_values('score', ascending=False)[['id']]['id']"
   ]
  },
  {
   "cell_type": "code",
   "execution_count": 27,
   "metadata": {},
   "outputs": [
    {
     "name": "stdout",
     "output_type": "stream",
     "text": [
      "Этот глупый свин не понимает мечту девочки-зайки. Фильм\n",
      "Твоё имя\n",
      "Форма голоса\n",
      "Я хочу съесть твою поджелудочную\n",
      "Твоя апрельская ложь\n",
      "Дитя погоды\n",
      "В лес, где мерцают светлячки\n",
      "Невероятное приключение ДжоДжо: Несокрушимый алмаз\n",
      "Нет игры — нет жизни: Начало\n",
      "Кошечка из Сакурасо\n",
      "Сквозь слёзы я притворяюсь кошкой\n",
      "Сад изящных слов\n",
      "Домекано\n",
      "На твоей волне\n",
      "Нас всегда разделяли 10 сантиметров\n",
      "Как и ожидалось, моя школьная романтическая жизнь не удалась 3 OVA\n",
      "По ту сторону океана\n",
      "Всем возможным тебе, которых я любил\n",
      "Невиданный цветок\n",
      "Задушевный голос\n"
     ]
    }
   ],
   "source": [
    "for id in get_recommendations('Твоё имя'):\n",
    "    querry = f\"SELECT Title FROM anime WHERE id='{id}'\"\n",
    "    cur = con.cursor()\n",
    "    cur.execute(querry)\n",
    "    print(cur.fetchall()[0][0])"
   ]
  },
  {
   "cell_type": "code",
   "execution_count": null,
   "metadata": {},
   "outputs": [],
   "source": []
  }
 ],
 "metadata": {
  "kernelspec": {
   "display_name": "Python 3.9.13 ('anime_recomendation')",
   "language": "python",
   "name": "python3"
  },
  "language_info": {
   "codemirror_mode": {
    "name": "ipython",
    "version": 3
   },
   "file_extension": ".py",
   "mimetype": "text/x-python",
   "name": "python",
   "nbconvert_exporter": "python",
   "pygments_lexer": "ipython3",
   "version": "3.9.13"
  },
  "orig_nbformat": 4,
  "vscode": {
   "interpreter": {
    "hash": "e65aa11c3b5e78ca3293f61e7956623c9bab853ddf93a6ac0daa32e91359786d"
   }
  }
 },
 "nbformat": 4,
 "nbformat_minor": 2
}
